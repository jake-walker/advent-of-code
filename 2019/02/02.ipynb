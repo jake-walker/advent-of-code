{
 "cells": [
  {
   "cell_type": "markdown",
   "metadata": {},
   "source": [
    "# Day 2: 1202 Program Alarm\n",
    "\n",
    "[Problem](https://adventofcode.com/2019/day/2)\n",
    "\n",
    "## Part 1"
   ]
  },
  {
   "cell_type": "code",
   "execution_count": 31,
   "metadata": {},
   "outputs": [],
   "source": [
    "def run(intcode, noun=False, verb=False):\n",
    "    intcode = intcode.split(\",\")\n",
    "    intcode = [int(i) for i in intcode]\n",
    "    \n",
    "    # Set noun and verb\n",
    "    if noun is not False:\n",
    "        intcode[1] = noun\n",
    "    if verb is not False:\n",
    "        intcode[2] = verb\n",
    "    \n",
    "    # Instruction pointer\n",
    "    pos = 0\n",
    "    while True:\n",
    "        opcode = intcode[pos]\n",
    "        # If we are adding or multiplying\n",
    "        if opcode == 1 or opcode == 2:\n",
    "            in1 = intcode[pos+1]  # index of the 1st input\n",
    "            in2 = intcode[pos+2]  # index of the 2nd input\n",
    "            out = intcode[pos+3]  # index of the output\n",
    "            \n",
    "            if opcode == 1:  # Add\n",
    "                # Add together the 1st input and the 2nd input and store in the output address\n",
    "                intcode[out] = intcode[in1] + intcode[in2]\n",
    "            elif opcode == 2:  # Multiply\n",
    "                # Multiply together the 1st input and the 2nd input and store in the output address\n",
    "                intcode[out] = intcode[in1] * intcode[in2]\n",
    "        elif opcode == 99:  # Exit\n",
    "            return intcode\n",
    "        else:\n",
    "            # If we have an opcode which isn't 1, 2 or 99 something has gone wrong!\n",
    "            raise Exception(\"Invalid opcode!\")\n",
    "        \n",
    "        # Increment the counter by 4\n",
    "        pos += 4"
   ]
  },
  {
   "cell_type": "code",
   "execution_count": 32,
   "metadata": {},
   "outputs": [],
   "source": [
    "# These are the examples from the brief and they will throw errors if they aren't calculated correctly.\n",
    "# A janky unit test!\n",
    "assert run(\"1,0,0,0,99\") == [2, 0, 0, 0, 99]\n",
    "assert run(\"2,3,0,3,99\") == [2,3,0,6,99]\n",
    "assert run(\"2,4,4,5,99,0\") == [2,4,4,5,99,9801]\n",
    "assert run(\"1,1,1,4,99,5,6,0,99\") == [30,1,1,4,2,5,6,0,99]\n",
    "assert run(\"1,9,10,3,2,3,11,0,99,30,40,50\") == [3500,9,10,70,2,3,11,0,99,30,40,50]"
   ]
  },
  {
   "cell_type": "code",
   "execution_count": 33,
   "metadata": {},
   "outputs": [
    {
     "name": "stdout",
     "output_type": "stream",
     "text": [
      "The 0th value is 4090689\n"
     ]
    }
   ],
   "source": [
    "# Open the code, run it and output the 0th memory value\n",
    "with open(\"input.txt\", \"r\") as file:\n",
    "    intcode = file.read()\n",
    "    output = run(intcode, noun=12, verb=2)\n",
    "    print(\"The 0th value is {}\".format(output[0]))"
   ]
  },
  {
   "cell_type": "markdown",
   "metadata": {},
   "source": [
    "## Part 2"
   ]
  },
  {
   "cell_type": "code",
   "execution_count": 34,
   "metadata": {},
   "outputs": [
    {
     "name": "stdout",
     "output_type": "stream",
     "text": [
      "Found noun of 77 and verb of 33\n",
      "The answer is 7733\n"
     ]
    }
   ],
   "source": [
    "def find_noun_and_verb(code, target, limits):\n",
    "    # Iterate through nouns and verbs to find the answer.\n",
    "    for noun in limits:\n",
    "        for verb in limits:\n",
    "            output = run(code, noun, verb)\n",
    "            if output[0] == target:\n",
    "                return (noun, verb)\n",
    "\n",
    "# The range of input values is between 0 and 99 (inclusive)\n",
    "r = range(0, 100)\n",
    "# The target number that we need to get at address 0 is 19690720\n",
    "t = 19690720\n",
    "\n",
    "with open(\"input.txt\", \"r\") as file:\n",
    "    # Get the code from the file\n",
    "    intcode = file.read()\n",
    "    # Run the function above to find the noun and verb using the range and target variables\n",
    "    noun, verb = find_noun_and_verb(intcode, t, r)\n",
    "    print(\"Found noun of {} and verb of {}\".format(noun, verb))\n",
    "    # Times the noun by 100 then add the verb to get the final answer\n",
    "    answer = (100 * noun) + verb\n",
    "    print(\"The answer is {}\".format(answer))"
   ]
  }
 ],
 "metadata": {
  "kernelspec": {
   "display_name": "Python 3",
   "language": "python",
   "name": "python3"
  },
  "language_info": {
   "codemirror_mode": {
    "name": "ipython",
    "version": 3
   },
   "file_extension": ".py",
   "mimetype": "text/x-python",
   "name": "python",
   "nbconvert_exporter": "python",
   "pygments_lexer": "ipython3",
   "version": "3.7.5"
  }
 },
 "nbformat": 4,
 "nbformat_minor": 4
}
