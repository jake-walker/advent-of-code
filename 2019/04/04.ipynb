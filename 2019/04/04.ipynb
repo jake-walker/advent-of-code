{
 "cells": [
  {
   "cell_type": "markdown",
   "metadata": {},
   "source": [
    "# Day 4: Secure Container\n",
    "\n",
    "[Problem](https://adventofcode.com/2019/day/4)\n",
    "\n",
    "## Part 1"
   ]
  },
  {
   "cell_type": "code",
   "execution_count": 1,
   "metadata": {},
   "outputs": [],
   "source": [
    "# Check whether a given combination is valid or not\n",
    "def valid_combo(combo):\n",
    "    # This stores whether a double has been found in the combination\n",
    "    is_one_double = False\n",
    "    # Convert the combination to a string of 6 numbers (with leading zeros if needed, e.g. 3456 becomes '003456')\n",
    "    combo = \"{:06}\".format(combo)\n",
    "    \n",
    "    # Loop through each of the numbers in the combination\n",
    "    for i in range(0, len(combo)):\n",
    "        # Check whether the numbers decrease\n",
    "        # If we are at index 0 there will be no number before\n",
    "        # And if not, make sure that the current number of the combination is higher than or equal to the number before\n",
    "        if i != 0 and int(combo[i]) < int(combo[i-1]):\n",
    "            # If the number increases, the combination is invalid\n",
    "            return False\n",
    "        \n",
    "        # If we don't already have a double in the combination, and we aren't at the last number in the combination\n",
    "        if not is_one_double and i < (len(combo) - 1):\n",
    "            # If the current number and the next number are the same then we have a double\n",
    "            if int(combo[i]) == int(combo[i+1]):\n",
    "                is_one_double = True\n",
    "    \n",
    "    # If no doubles were found in the combination, it was not valid\n",
    "    if not is_one_double:\n",
    "        return False\n",
    "    \n",
    "    return True"
   ]
  },
  {
   "cell_type": "code",
   "execution_count": 2,
   "metadata": {},
   "outputs": [],
   "source": [
    "# Part 1 Assertions\n",
    "assert valid_combo(111111) == True\n",
    "assert valid_combo(223450) == False  # Decreasing number\n",
    "assert valid_combo(123789) == False  # No double number"
   ]
  },
  {
   "cell_type": "code",
   "execution_count": 4,
   "metadata": {},
   "outputs": [
    {
     "name": "stdout",
     "output_type": "stream",
     "text": [
      "There are 1660 combinations\n"
     ]
    }
   ],
   "source": [
    "# The range of combinations\n",
    "range_min = 172851\n",
    "range_max = 675869\n",
    "\n",
    "# List of the valid combinations\n",
    "valid = 0\n",
    "\n",
    "# For each of the combinations\n",
    "for combo in range(range_min, range_max + 1):\n",
    "    # Check if the combination is valid\n",
    "    if valid_combo(combo):\n",
    "        valid += 1\n",
    "    \n",
    "print(\"There are {} combinations\".format(valid))"
   ]
  },
  {
   "cell_type": "markdown",
   "metadata": {},
   "source": [
    "## Part 2"
   ]
  },
  {
   "cell_type": "code",
   "execution_count": 5,
   "metadata": {},
   "outputs": [],
   "source": [
    "import itertools\n",
    "\n",
    "# Group together adjacent items in a list (e.g. [1, 2, 3, 3, 3, 4] becomes [[1], [2], [3, 3, 3], [4]])\n",
    "def group_adjacent(l):\n",
    "    return [list(b) for a, b in itertools.groupby(l, key=lambda x: x[-1])]"
   ]
  },
  {
   "cell_type": "code",
   "execution_count": 6,
   "metadata": {},
   "outputs": [],
   "source": [
    "# Check whether a given combination is valid or not\n",
    "# This is a redefiniton of the function for part 1 but with the additional checks required for part 2\n",
    "def valid_combo(combo):\n",
    "    # Convert the combination to a string of 6 numbers (with leading zeros if needed, e.g. 3456 becomes '003456')\n",
    "    combo = \"{:06}\".format(combo)\n",
    "    \n",
    "    # Loop through each of the numbers in the combination\n",
    "    for i in range(0, len(combo)):\n",
    "        # Check whether the numbers decrease\n",
    "        # If we are at index 0 there will be no number before\n",
    "        # And if not, make sure that the current number of the combination is higher than or equal to the number before\n",
    "        if i != 0 and int(combo[i]) < int(combo[i-1]):\n",
    "            # If the number increases, the combination is invalid\n",
    "            return False\n",
    "    \n",
    "    # Get the grouped up numbers\n",
    "    number_groups = group_adjacent(combo)\n",
    "    # Check for any groups that are 2 in length (if there are any, it is a valid combination)\n",
    "    for group in number_groups:\n",
    "        if len(group) == 2:\n",
    "            return True\n",
    "    \n",
    "    # If there are no groups that are 2 in length, the combination is invalid\n",
    "    return False"
   ]
  },
  {
   "cell_type": "code",
   "execution_count": 7,
   "metadata": {},
   "outputs": [],
   "source": [
    "# Part 2 Assertions\n",
    "assert valid_combo(112233) == True\n",
    "assert valid_combo(123444) == False  # Group of three same numbers\n",
    "assert valid_combo(111122) == True  # There is still one group of two numbers"
   ]
  },
  {
   "cell_type": "code",
   "execution_count": 8,
   "metadata": {},
   "outputs": [
    {
     "name": "stdout",
     "output_type": "stream",
     "text": [
      "There are 1135 combinations\n"
     ]
    }
   ],
   "source": [
    "valid = 0\n",
    "\n",
    "# For each of the combinations\n",
    "for combo in range(range_min, range_max + 1):\n",
    "    # Check if the combination is valid\n",
    "    if valid_combo(combo):\n",
    "        valid += 1\n",
    "        \n",
    "print(\"There are {} combinations\".format(valid))"
   ]
  }
 ],
 "metadata": {
  "kernelspec": {
   "display_name": "Python 3",
   "language": "python",
   "name": "python3"
  },
  "language_info": {
   "codemirror_mode": {
    "name": "ipython",
    "version": 3
   },
   "file_extension": ".py",
   "mimetype": "text/x-python",
   "name": "python",
   "nbconvert_exporter": "python",
   "pygments_lexer": "ipython3",
   "version": "3.7.5"
  }
 },
 "nbformat": 4,
 "nbformat_minor": 4
}
