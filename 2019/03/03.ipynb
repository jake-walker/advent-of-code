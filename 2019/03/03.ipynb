{
 "cells": [
  {
   "cell_type": "markdown",
   "metadata": {},
   "source": [
    "# Day 3: Crossed Wires\n",
    "\n",
    "[Problem](https://adventofcode.com/2019/day/3)\n",
    "\n",
    "## Part 1"
   ]
  },
  {
   "cell_type": "code",
   "execution_count": 1,
   "metadata": {},
   "outputs": [],
   "source": [
    "# Find the points where the wire goes\n",
    "def get_points(line):\n",
    "    x = 0\n",
    "    y = 0\n",
    "    coords = []\n",
    "    \n",
    "    # Split the directions into a list\n",
    "    directions = line.split(\",\")\n",
    "    for direction in directions:\n",
    "        # The distance that the wire goes in the direction is anything after the first letter in the string\n",
    "        dist = int(direction[1:])\n",
    "        \n",
    "        # Loop through the distance so that we can get every coordinate\n",
    "        for d in range(0, dist):\n",
    "            # If the direction is up\n",
    "            if direction[0] == \"U\":\n",
    "                # Increase the y coordinate by 1\n",
    "                y += 1\n",
    "            # If the direction is down\n",
    "            elif direction[0] == \"D\":\n",
    "                # Decrease the y coordinate by 1\n",
    "                y -= 1\n",
    "            # If the direction is left\n",
    "            elif direction[0] == \"L\":\n",
    "                # Decrease the x coordinate by 1\n",
    "                x -= 1\n",
    "            # If the direction is right\n",
    "            elif direction[0] == \"R\":\n",
    "                # Increase the x coordinate by 1\n",
    "                x += 1\n",
    "                \n",
    "            # Add the coordinates to the list\n",
    "            coords.append((x, y))\n",
    "    \n",
    "    # Now we have a list of coordinates of every point where the wire passes through\n",
    "    return coords"
   ]
  },
  {
   "cell_type": "code",
   "execution_count": 2,
   "metadata": {},
   "outputs": [],
   "source": [
    "def intercept(a, b):\n",
    "    # Check for common items in two lists\n",
    "    return set(a).intersection(set(b))"
   ]
  },
  {
   "cell_type": "code",
   "execution_count": 3,
   "metadata": {},
   "outputs": [],
   "source": [
    "def taxicab_distance(x, y):\n",
    "    # Calculate the taxicab distance between the origin (0, 0) and (x, y)\n",
    "    return abs(0 - x) + abs(0 - y)"
   ]
  },
  {
   "cell_type": "code",
   "execution_count": 4,
   "metadata": {},
   "outputs": [],
   "source": [
    "# Find the closest coordinate\n",
    "def compare_wires(a, b):\n",
    "    print(\"Finding points of wire 1...\")\n",
    "    # Get all of the points that the first wire passes through\n",
    "    wire1 = get_points(a)\n",
    "    print(\"Finding points of wire 2...\")\n",
    "    # Get all of the points that the second wire passes through\n",
    "    wire2 = get_points(b)\n",
    "    \n",
    "    print(\"Found points\")\n",
    "\n",
    "    shortest_dist = None\n",
    "    shortest_coord = None\n",
    "    print(\"Finding interceptions...\")\n",
    "    # Find all of the interceptions that both wires pass through\n",
    "    intercepts = intercept(wire1, wire2)\n",
    "    print(\"Found {} interceptions\".format(len(intercepts)))\n",
    "    for i in intercepts:\n",
    "        # Calculate the taxicab distance between the origin and the interception coordinates\n",
    "        dist = taxicab_distance(i[0], i[1])\n",
    "        # Find the shortest distance and store in the variables shortest_dist and shortest_coord\n",
    "        if shortest_dist is None or dist < shortest_dist:\n",
    "            shortest_dist = dist\n",
    "            shortest_coord = i\n",
    "    \n",
    "    print(\"The shortest distance is {} with coordinates of {}\".format(shortest_dist, shortest_coord))\n",
    "    return (shortest_dist, shortest_coord)"
   ]
  },
  {
   "cell_type": "code",
   "execution_count": 5,
   "metadata": {},
   "outputs": [
    {
     "name": "stdout",
     "output_type": "stream",
     "text": [
      "Finding points of wire 1...\n",
      "Finding points of wire 2...\n",
      "Found points\n",
      "Finding interceptions...\n",
      "Found 2 interceptions\n",
      "The shortest distance is 6 with coordinates of (3, 3)\n",
      "Finding points of wire 1...\n",
      "Finding points of wire 2...\n",
      "Found points\n",
      "Finding interceptions...\n",
      "Found 4 interceptions\n",
      "The shortest distance is 159 with coordinates of (155, 4)\n",
      "Finding points of wire 1...\n",
      "Finding points of wire 2...\n",
      "Found points\n",
      "Finding interceptions...\n",
      "Found 5 interceptions\n",
      "The shortest distance is 135 with coordinates of (124, 11)\n"
     ]
    }
   ],
   "source": [
    "# Tests to make sure that the examples work\n",
    "assert compare_wires(\"R8,U5,L5,D3\", \"U7,R6,D4,L4\")[0] == 6\n",
    "assert compare_wires(\"R75,D30,R83,U83,L12,D49,R71,U7,L72\", \"U62,R66,U55,R34,D71,R55,D58,R83\")[0] == 159\n",
    "assert compare_wires(\"R98,U47,R26,D63,R33,U87,L62,D20,R33,U53,R51\", \"U98,R91,D20,R16,D67,R40,U7,R15,U6,R7\")[0] == 135"
   ]
  },
  {
   "cell_type": "code",
   "execution_count": 6,
   "metadata": {},
   "outputs": [
    {
     "name": "stdout",
     "output_type": "stream",
     "text": [
      "Finding points of wire 1...\n",
      "Finding points of wire 2...\n",
      "Found points\n",
      "Finding interceptions...\n",
      "Found 23 interceptions\n",
      "The shortest distance is 806 with coordinates of (-30, 776)\n"
     ]
    }
   ],
   "source": [
    "# The actual answer from the input file\n",
    "result = None\n",
    "with open(\"input.txt\", \"r\") as file:\n",
    "    wires = file.read().splitlines()\n",
    "    result = compare_wires(wires[0], wires[1])"
   ]
  },
  {
   "cell_type": "markdown",
   "metadata": {},
   "source": [
    "## Part 2"
   ]
  },
  {
   "cell_type": "code",
   "execution_count": 7,
   "metadata": {},
   "outputs": [],
   "source": [
    "# Function to count how many items to a certain item in the list\n",
    "def count_to_item(l, item):\n",
    "    count = 0\n",
    "    for i in l:\n",
    "        count += 1\n",
    "        if i == item:\n",
    "            return count"
   ]
  },
  {
   "cell_type": "code",
   "execution_count": 8,
   "metadata": {},
   "outputs": [],
   "source": [
    "# Function to find how long the wire is to the intercept\n",
    "def intercept_length(wire1, wire2):\n",
    "    # Get the points of both wires\n",
    "    points1 = get_points(wire1)\n",
    "    points2 = get_points(wire2)\n",
    "    \n",
    "    # Find the interceptions between the two wires\n",
    "    intercepts = intercept(points1, points2)\n",
    "    \n",
    "    # Find the the interception with the lowest distance\n",
    "    shortest_dist = None\n",
    "    for i in intercepts:\n",
    "        len1 = count_to_item(points1, i)\n",
    "        len2 = count_to_item(points2, i)\n",
    "        total = len1 + len2\n",
    "        \n",
    "        #print(\"{} + {} = {}\".format(len1, len2, total))\n",
    "        \n",
    "        if shortest_dist is None or total < shortest_dist:\n",
    "            shortest_dist = total\n",
    "    \n",
    "    return shortest_dist"
   ]
  },
  {
   "cell_type": "code",
   "execution_count": 9,
   "metadata": {},
   "outputs": [],
   "source": [
    "# Tests to make sure that the examples work\n",
    "assert intercept_length(\"R8,U5,L5,D3\", \"U7,R6,D4,L4\") == 30\n",
    "assert intercept_length(\"R75,D30,R83,U83,L12,D49,R71,U7,L72\", \"U62,R66,U55,R34,D71,R55,D58,R83\") == 610\n",
    "assert intercept_length(\"R98,U47,R26,D63,R33,U87,L62,D20,R33,U53,R51\", \"U98,R91,D20,R16,D67,R40,U7,R15,U6,R7\") == 410"
   ]
  },
  {
   "cell_type": "code",
   "execution_count": 10,
   "metadata": {},
   "outputs": [
    {
     "name": "stdout",
     "output_type": "stream",
     "text": [
      "66076\n"
     ]
    }
   ],
   "source": [
    "with open(\"input.txt\", \"r\") as file:\n",
    "    wires = file.read().splitlines()\n",
    "    answer = intercept_length(wires[0], wires[1])\n",
    "    print(answer)"
   ]
  }
 ],
 "metadata": {
  "kernelspec": {
   "display_name": "Python 3",
   "language": "python",
   "name": "python3"
  },
  "language_info": {
   "codemirror_mode": {
    "name": "ipython",
    "version": 3
   },
   "file_extension": ".py",
   "mimetype": "text/x-python",
   "name": "python",
   "nbconvert_exporter": "python",
   "pygments_lexer": "ipython3",
   "version": "3.7.5rc1"
  }
 },
 "nbformat": 4,
 "nbformat_minor": 4
}
