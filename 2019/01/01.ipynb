{
 "cells": [
  {
   "cell_type": "markdown",
   "metadata": {},
   "source": [
    "# Day 1: The Tyranny of the Rocket Equation\n",
    "\n",
    "[Problem](https://adventofcode.com/2019/day/1)\n",
    "\n",
    "## Part 1"
   ]
  },
  {
   "cell_type": "code",
   "execution_count": 9,
   "metadata": {},
   "outputs": [],
   "source": [
    "import math\n",
    "\n",
    "def calculateFuel(mass):\n",
    "    # Divide the fuel by 3\n",
    "    fuel = mass / 3\n",
    "    # Round down\n",
    "    fuel = math.floor(fuel)\n",
    "    # Minus 2\n",
    "    fuel = fuel - 2\n",
    "    return fuel"
   ]
  },
  {
   "cell_type": "code",
   "execution_count": 10,
   "metadata": {},
   "outputs": [
    {
     "name": "stdout",
     "output_type": "stream",
     "text": [
      "The total fuel required is 3363760!\n"
     ]
    }
   ],
   "source": [
    "total = 0\n",
    "\n",
    "with open(\"input.txt\", \"r\") as file:\n",
    "    # Read the file line by line\n",
    "    for module in file:\n",
    "        total += calculateFuel(int(module))\n",
    "\n",
    "print(\"The total fuel required is {}!\".format(total))"
   ]
  },
  {
   "cell_type": "markdown",
   "metadata": {},
   "source": [
    "## Part 2"
   ]
  },
  {
   "cell_type": "code",
   "execution_count": 11,
   "metadata": {},
   "outputs": [
    {
     "name": "stdout",
     "output_type": "stream",
     "text": [
      "Part 2: 5042767\n"
     ]
    }
   ],
   "source": [
    "total2 = 0\n",
    "with open(\"input.txt\", \"r\") as file:\n",
    "    for module in file:\n",
    "        fuel = None\n",
    "        while True:\n",
    "            if fuel is None:\n",
    "                # Calculate the original module fuel\n",
    "                fuel = calculateFuel(int(module))\n",
    "            else:\n",
    "                # Calculate the fuel needed for the fuel\n",
    "                fuel = calculateFuel(fuel)\n",
    "            \n",
    "            if fuel <= 0:\n",
    "                # If the fuel is lower than zero then we don't want to calculate it anymore\n",
    "                break\n",
    "            \n",
    "            # Add the fuel onto the total\n",
    "            total2 += (fuel if fuel > 0 else 0)\n",
    "\n",
    "print(\"Part 2: {}\".format(total2))"
   ]
  }
 ],
 "metadata": {
  "kernelspec": {
   "display_name": "Python 3",
   "language": "python",
   "name": "python3"
  },
  "language_info": {
   "codemirror_mode": {
    "name": "ipython",
    "version": 3
   },
   "file_extension": ".py",
   "mimetype": "text/x-python",
   "name": "python",
   "nbconvert_exporter": "python",
   "pygments_lexer": "ipython3",
   "version": "3.7.5"
  }
 },
 "nbformat": 4,
 "nbformat_minor": 4
}
